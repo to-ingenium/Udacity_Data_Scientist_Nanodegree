{
 "cells": [
  {
   "cell_type": "markdown",
   "metadata": {},
   "source": [
    "# 🛍️ Product Recommendation  UI\n",
    "\n",
    "Interactive interface to test our trained model with new review data."
   ]
  },
  {
   "cell_type": "code",
   "execution_count": 5,
   "metadata": {},
   "outputs": [],
   "source": [
    "# Import libraries\n",
    "import pandas as pd\n",
    "import joblib\n",
    "import ipywidgets as widgets\n",
    "from IPython.display import display, HTML, clear_output\n",
    "import numpy as np\n",
    "import warnings\n",
    "warnings.filterwarnings('ignore')\n",
    "\n",
    "# Import required libraries for preprocessing classes\n",
    "import spacy\n",
    "from sklearn.base import BaseEstimator, TransformerMixin\n",
    "from textblob import TextBlob"
   ]
  },
  {
   "cell_type": "code",
   "execution_count": null,
   "metadata": {},
   "outputs": [
    {
     "name": "stdout",
     "output_type": "stream",
     "text": [
      "Classes defined successfully!\n"
     ]
    }
   ],
   "source": [
    "# Define preprocessing classes\n",
    "class TextPreprocessor(BaseEstimator, TransformerMixin):\n",
    "    \"\"\"\n",
    "    Custom text preprocessing transformer for scikit-learn pipelines using spaCy\n",
    "    Performs: normalization, stopword removal, tokenization, lemmatization\n",
    "    \"\"\"\n",
    "    \n",
    "    def __init__(self):\n",
    "        self.nlp = spacy.load('en_core_web_sm')\n",
    "    \n",
    "    def fit(self, X, y=None):\n",
    "        return self\n",
    "    \n",
    "    def transform(self, X):\n",
    "        \"\"\"Transform text data through preprocessing steps\"\"\"\n",
    "        return [self._preprocess_text(text) for text in X]\n",
    "    \n",
    "    def _preprocess_text(self, text):\n",
    "        \"\"\"Apply all preprocessing steps to a single text\"\"\"\n",
    "        if pd.isna(text) or text == '':\n",
    "            return ''\n",
    "        \n",
    "        # 1. Normalize text (lowercase)\n",
    "        text = text.lower()\n",
    "        \n",
    "        # Process with spaCy\n",
    "        doc = self.nlp(text)\n",
    "        \n",
    "        # 2, 3, 4: Tokenization, stopword removal, lemmatization in one step\n",
    "        tokens = [token.lemma_ for token in doc \n",
    "                 if not token.is_stop and not token.is_punct \n",
    "                 and not token.is_space and token.is_alpha]\n",
    "        \n",
    "        # Return as single string for TF-IDF compatibility\n",
    "        return ' '.join(tokens)\n",
    "\n",
    "class FeatureEngineer(BaseEstimator, TransformerMixin):\n",
    "    def fit(self, X, y=None):\n",
    "        return self\n",
    "    \n",
    "    def transform(self, X):\n",
    "        X_new = X.copy()\n",
    "        \n",
    "        # Text length features\n",
    "        X_new['title_length'] = X['Title'].str.len()\n",
    "        X_new['review_length'] = X['Review Text'].str.len()\n",
    "        X_new['title_word_count'] = X['Title'].str.split().str.len()\n",
    "        X_new['review_word_count'] = X['Review Text'].str.split().str.len()\n",
    "        \n",
    "        # Sentiment analysis\n",
    "        X_new['review_sentiment'] = X['Review Text'].apply(lambda x: TextBlob(str(x)).sentiment.polarity)\n",
    "        \n",
    "        # Age groups \n",
    "        X_new['age_group'] = pd.cut(X['Age'], \n",
    "                                   bins=[0, 25, 35, 45, 55, 100], \n",
    "                                   labels=['18-25', '26-35', '36-45', '46-55', '55+'])\n",
    "        \n",
    "        # Feedback ratio (normalized by age - older customers might get more feedback)\n",
    "        X_new['feedback_per_age'] = X['Positive Feedback Count'] / (X['Age'] + 1)\n",
    "        \n",
    "        return X_new\n",
    "\n",
    "print(\"Classes defined successfully!\")"
   ]
  },
  {
   "cell_type": "code",
   "execution_count": null,
   "metadata": {},
   "outputs": [
    {
     "name": "stdout",
     "output_type": "stream",
     "text": [
      "✅ Setup complete! Model and data loaded successfully.\n",
      "Dataset shape: (18442, 9)\n",
      "Available clothing IDs: 531\n"
     ]
    }
   ],
   "source": [
    "# Load model and data\n",
    "try:\n",
    "    model_pipeline = joblib.load('../cache/best_model_pipeline.pkl')\n",
    "    df = pd.read_csv('../dataset/reviews.csv')\n",
    "    \n",
    "    # Create mappings for dropdowns and auto-completion\n",
    "    clothing_ids = sorted(df['Clothing ID'].unique())\n",
    "    divisions = sorted(df['Division Name'].unique())\n",
    "    departments = sorted(df['Department Name'].unique())\n",
    "    classes = sorted(df['Class Name'].unique())\n",
    "    \n",
    "    id_mappings = df[['Clothing ID', 'Class Name', 'Department Name', 'Division Name']].drop_duplicates()\n",
    "    id_to_class = dict(zip(id_mappings['Clothing ID'], id_mappings['Class Name']))\n",
    "    id_to_dept = dict(zip(id_mappings['Clothing ID'], id_mappings['Department Name']))\n",
    "    id_to_div = dict(zip(id_mappings['Clothing ID'], id_mappings['Division Name']))\n",
    "    \n",
    "    print(\"✅ Setup complete! Model and data loaded successfully.\")\n",
    "    print(f\"Dataset shape: {df.shape}\")\n",
    "    print(f\"Available clothing IDs: {len(clothing_ids)}\")\n",
    "    \n",
    "except Exception as e:\n",
    "    print(f\"❌ Error loading files: {e}\")\n",
    "    print(\"Make sure the cache directory and dataset exist.\")"
   ]
  },
  {
   "cell_type": "code",
   "execution_count": 8,
   "metadata": {},
   "outputs": [
    {
     "data": {
      "text/html": [
       "\n",
       "<style>\n",
       ".widget-label { font-weight: bold; color: #2E7D32; }\n",
       ".section-header {\n",
       "    background: linear-gradient(135deg, #667eea 0%, #764ba2 100%);\n",
       "    color: white;\n",
       "    padding: 10px;\n",
       "    border-radius: 8px;\n",
       "    margin: 15px 0 10px 0;\n",
       "    text-align: center;\n",
       "    font-weight: bold;\n",
       "    font-size: 16px;\n",
       "}\n",
       "</style>\n"
      ],
      "text/plain": [
       "<IPython.core.display.HTML object>"
      ]
     },
     "metadata": {},
     "output_type": "display_data"
    }
   ],
   "source": [
    "# UI styling\n",
    "display(HTML(\"\"\"\n",
    "<style>\n",
    ".widget-label { font-weight: bold; color: #2E7D32; }\n",
    ".section-header {\n",
    "    background: linear-gradient(135deg, #667eea 0%, #764ba2 100%);\n",
    "    color: white;\n",
    "    padding: 10px;\n",
    "    border-radius: 8px;\n",
    "    margin: 15px 0 10px 0;\n",
    "    text-align: center;\n",
    "    font-weight: bold;\n",
    "    font-size: 16px;\n",
    "}\n",
    "</style>\n",
    "\"\"\"))"
   ]
  },
  {
   "cell_type": "code",
   "execution_count": 9,
   "metadata": {},
   "outputs": [
    {
     "data": {
      "text/html": [
       "<div class=\"section-header\">🛍️ Product Recommendation Predictor</div>"
      ],
      "text/plain": [
       "<IPython.core.display.HTML object>"
      ]
     },
     "metadata": {},
     "output_type": "display_data"
    },
    {
     "data": {
      "application/vnd.jupyter.widget-view+json": {
       "model_id": "4453fd6093ff439e9d2ab8f6199f95c9",
       "version_major": 2,
       "version_minor": 0
      },
      "text/plain": [
       "VBox(children=(IntSlider(value=35, description='Age:', max=99, min=18, style=SliderStyle(description_width='15…"
      ]
     },
     "metadata": {},
     "output_type": "display_data"
    }
   ],
   "source": [
    "# Complete Interactive UI\n",
    "display(HTML('<div class=\"section-header\">🛍️ Product Recommendation Predictor</div>'))\n",
    "\n",
    "# Create all widgets\n",
    "age_widget = widgets.IntSlider(value=35, min=18, max=99, description='Age:', style={'description_width': '150px'})\n",
    "\n",
    "clothing_id_widget = widgets.Dropdown(options=clothing_ids, value=clothing_ids[0], description='Clothing ID:', style={'description_width': '150px'})\n",
    "division_widget = widgets.Dropdown(options=divisions, value=divisions[0], description='Division:', style={'description_width': '150px'})\n",
    "department_widget = widgets.Dropdown(options=departments, value=departments[0], description='Department:', style={'description_width': '150px'})\n",
    "class_widget = widgets.Dropdown(options=classes, value=classes[0], description='Class:', style={'description_width': '150px'})\n",
    "feedback_widget = widgets.IntSlider(value=0, min=0, max=50, description='Positive Feedback:', style={'description_width': '150px'})\n",
    "\n",
    "title_widget = widgets.Text(value='Great product!', description='Review Title:', style={'description_width': '150px'}, layout=widgets.Layout(width='600px'))\n",
    "review_widget = widgets.Textarea(value='This product exceeded my expectations. The quality is excellent and it fits perfectly.', description='Review Text:', style={'description_width': '150px'}, layout=widgets.Layout(width='600px', height='120px'))\n",
    "\n",
    "results_output = widgets.Output()\n",
    "\n",
    "def load_positive_example(b):\n",
    "    age_widget.value = 35\n",
    "    title_widget.value = \"Love this dress!\"\n",
    "    review_widget.value = \"This dress is absolutely beautiful! Perfect fit, great quality, and I received so many compliments. Definitely worth the price.\"\n",
    "    feedback_widget.value = 5\n",
    "\n",
    "def load_negative_example(b):\n",
    "    age_widget.value = 28\n",
    "    title_widget.value = \"Disappointed with quality\"\n",
    "    review_widget.value = \"The material feels cheap and the sizing is completely off. The color faded after one wash. Would not buy again.\"\n",
    "    feedback_widget.value = 0\n",
    "\n",
    "def make_prediction(b):\n",
    "    with results_output:\n",
    "        clear_output(wait=True)\n",
    "        \n",
    "        input_data = pd.DataFrame({\n",
    "            'Clothing ID': [clothing_id_widget.value],\n",
    "            'Age': [age_widget.value],\n",
    "            'Title': [title_widget.value],\n",
    "            'Review Text': [review_widget.value],\n",
    "            'Positive Feedback Count': [feedback_widget.value],\n",
    "            'Division Name': [division_widget.value],\n",
    "            'Department Name': [department_widget.value],\n",
    "            'Class Name': [class_widget.value]\n",
    "        })\n",
    "        \n",
    "        prediction = model_pipeline.predict(input_data)[0]\n",
    "        probability = model_pipeline.predict_proba(input_data)[0]\n",
    "        \n",
    "        print(\"🔮 PREDICTION RESULTS\")\n",
    "        print(\"=\" * 50)\n",
    "        \n",
    "        if prediction == 1:\n",
    "            print(\"✅ RECOMMENDATION: YES\")\n",
    "            print(f\"🎯 Confidence: {probability[1]:.1%}\")\n",
    "        else:\n",
    "            print(\"❌ RECOMMENDATION: NO\")\n",
    "            print(f\"🎯 Confidence: {probability[0]:.1%}\")\n",
    "        \n",
    "        print(f\"\\nProbabilities: Not Recommend: {probability[0]:.1%} | Recommend: {probability[1]:.1%}\")\n",
    "\n",
    "def update_product_info(change):\n",
    "    clothing_id = change['new']\n",
    "    if clothing_id in id_to_class:\n",
    "        class_widget.value = id_to_class[clothing_id]\n",
    "        department_widget.value = id_to_dept[clothing_id]\n",
    "        division_widget.value = id_to_div[clothing_id]\n",
    "\n",
    "clothing_id_widget.observe(update_product_info, names='value')\n",
    "\n",
    "positive_btn = widgets.Button(description='😍 Positive Example', button_style='info')\n",
    "negative_btn = widgets.Button(description='😞 Negative Example', button_style='danger')\n",
    "predict_button = widgets.Button(description='🚀 Predict Recommendation', button_style='success')\n",
    "\n",
    "positive_btn.on_click(load_positive_example)\n",
    "negative_btn.on_click(load_negative_example)\n",
    "predict_button.on_click(make_prediction)\n",
    "\n",
    "# Display UI\n",
    "complete_ui = widgets.VBox([\n",
    "    age_widget,\n",
    "    clothing_id_widget,\n",
    "    division_widget, \n",
    "    department_widget,\n",
    "    class_widget,\n",
    "    feedback_widget,\n",
    "    title_widget,\n",
    "    review_widget,\n",
    "    widgets.HBox([positive_btn, negative_btn]),\n",
    "    predict_button,\n",
    "    results_output\n",
    "])\n",
    "\n",
    "display(complete_ui)"
   ]
  }
 ],
 "metadata": {
  "kernelspec": {
   "display_name": "Project_3",
   "language": "python",
   "name": "python3"
  },
  "language_info": {
   "codemirror_mode": {
    "name": "ipython",
    "version": 3
   },
   "file_extension": ".py",
   "mimetype": "text/x-python",
   "name": "python",
   "nbconvert_exporter": "python",
   "pygments_lexer": "ipython3",
   "version": "3.12.11"
  }
 },
 "nbformat": 4,
 "nbformat_minor": 4
}
